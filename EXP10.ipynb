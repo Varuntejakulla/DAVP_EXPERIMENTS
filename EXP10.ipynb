{
 "cells": [
  {
   "cell_type": "markdown",
   "metadata": {},
   "source": [
    "Design an interactive dashboard to visualize sales trends, allowing users to filter by region and product category.\n",
    "A dashboard with dropdown filters and line charts\n"
   ]
  },
  {
   "cell_type": "markdown",
   "metadata": {},
   "source": [
    "Explanation of the Code:\n",
    "Imports: We import Dash, Plotly, and Pandas to handle the dashboard and data visualization.\n",
    "Dataset: We define a simple example dataset with sales data for various regions and product categories. In your actual implementation, you can replace this with data from a CSV or database.\n",
    "App Layout:\n",
    "Dropdowns: Two dropdowns are created:\n",
    "One for selecting the Region.\n",
    "One for selecting the Product Category.\n",
    "Graph: A dcc.Graph component is used to display the sales trend. The line chart is updated dynamically based on the selected filters.\n",
    "Callback:\n",
    "The callback listens to changes in both dropdowns (region-dropdown and category-dropdown).\n",
    "When either of the filters changes, the graph updates to show the sales trend for the selected region and product category.\n",
    "Running the App: The app is set to run on the local server at http://127.0.0.1:8050/."
   ]
  },
  {
   "cell_type": "code",
   "execution_count": 1,
   "metadata": {},
   "outputs": [
    {
     "data": {
      "text/html": [
       "\n",
       "        <iframe\n",
       "            width=\"100%\"\n",
       "            height=\"650\"\n",
       "            src=\"http://127.0.0.1:8051/\"\n",
       "            frameborder=\"0\"\n",
       "            allowfullscreen\n",
       "            \n",
       "        ></iframe>\n",
       "        "
      ],
      "text/plain": [
       "<IPython.lib.display.IFrame at 0x29417197b50>"
      ]
     },
     "metadata": {},
     "output_type": "display_data"
    }
   ],
   "source": [
    "import dash\n",
    "from dash import dcc, html\n",
    "import plotly.express as px\n",
    "import pandas as pd\n",
    "from dash.dependencies import Input, Output\n",
    "\n",
    "# Extended sample data for the dashboard\n",
    "data = {\n",
    "    'Region': ['North', 'South', 'East', 'West', 'North', 'South', 'East', 'West', 'North', 'South', 'East', 'West', 'North', 'South', 'East', 'West', 'North', 'South'],\n",
    "    'Product Category': ['Electronics', 'Electronics', 'Furniture', 'Furniture', 'Clothing', 'Clothing', 'Furniture', 'Electronics', 'Furniture', 'Electronics', 'Clothing', 'Furniture', 'Electronics', 'Clothing', 'Furniture', 'Electronics', 'Clothing', 'Electronics'],\n",
    "    'Sales': [1200, 1500, 900, 800, 600, 700, 950, 1100, 1300, 1600, 850, 750, 500, 600, 650, 1200, 1400, 1000],\n",
    "    'Month': ['January', 'January', 'January', 'January', 'February', 'February', 'February', 'February', 'March', 'March', 'March', 'March', 'April', 'April', 'April', 'April', 'May', 'May']\n",
    "}\n",
    "\n",
    "# Create a DataFrame\n",
    "df = pd.DataFrame(data)\n",
    "\n",
    "# Initialize the Dash app\n",
    "app = dash.Dash(__name__)\n",
    "\n",
    "# Layout of the dashboard\n",
    "app.layout = html.Div([\n",
    "    html.H1(\"Sales Trends Dashboard\"),\n",
    "\n",
    "    # Dropdown for selecting the region\n",
    "    html.Div([\n",
    "        dcc.Dropdown(\n",
    "            id='region-dropdown',\n",
    "            options=[{'label': region, 'value': region} for region in df['Region'].unique()],\n",
    "            value='North',  # default value\n",
    "            style={'width': '50%'}\n",
    "        ),\n",
    "    ], style={'padding': '20px'}),\n",
    "\n",
    "    # Dropdown for selecting the product category\n",
    "    html.Div([\n",
    "        dcc.Dropdown(\n",
    "            id='category-dropdown',\n",
    "            options=[{'label': category, 'value': category} for category in df['Product Category'].unique()],\n",
    "            value='Electronics',  # default value\n",
    "            style={'width': '50%'}\n",
    "        ),\n",
    "    ], style={'padding': '20px'}),\n",
    "\n",
    "    # Line chart to show sales trends\n",
    "    dcc.Graph(id='sales-trend-graph')\n",
    "])\n",
    "\n",
    "# Callback to update the graph based on the selected filters\n",
    "@app.callback(\n",
    "    Output('sales-trend-graph', 'figure'),\n",
    "    [Input('region-dropdown', 'value'),\n",
    "     Input('category-dropdown', 'value')]\n",
    ")\n",
    "def update_graph(selected_region, selected_category):\n",
    "    # Filter the data based on the selected region and category\n",
    "    filtered_df = df[(df['Region'] == selected_region) & (df['Product Category'] == selected_category)]\n",
    "\n",
    "    # Create a line chart to show sales trends by month\n",
    "    fig = px.line(\n",
    "        filtered_df,\n",
    "        x='Month',\n",
    "        y='Sales',\n",
    "        title=f\"Sales Trends for {selected_category} in {selected_region}\",\n",
    "        markers=True\n",
    "    )\n",
    "\n",
    "    # Return the updated figure\n",
    "    return fig\n",
    "\n",
    "# Run the app\n",
    "if __name__ == '__main__':\n",
    "    app.run_server(debug=True, port=8051)  # Change the port if needed\n"
   ]
  },
  {
   "cell_type": "code",
   "execution_count": null,
   "metadata": {},
   "outputs": [],
   "source": []
  }
 ],
 "metadata": {
  "kernelspec": {
   "display_name": "Python 3",
   "language": "python",
   "name": "python3"
  },
  "language_info": {
   "codemirror_mode": {
    "name": "ipython",
    "version": 3
   },
   "file_extension": ".py",
   "mimetype": "text/x-python",
   "name": "python",
   "nbconvert_exporter": "python",
   "pygments_lexer": "ipython3",
   "version": "3.10.1"
  }
 },
 "nbformat": 4,
 "nbformat_minor": 2
}
