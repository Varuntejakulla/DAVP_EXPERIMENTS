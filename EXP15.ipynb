{
 "cells": [
  {
   "cell_type": "markdown",
   "metadata": {},
   "source": [
    "Design a dashboard layout that includes an interactive component to display sales, profits, and customer count based on a selected date range.A functional dashboard where users can filter by  date range and view dynamic visualizations.\n",
    "\n"
   ]
  },
  {
   "cell_type": "markdown",
   "metadata": {},
   "source": [
    "Features of the Dashboard\n",
    "\n",
    "Date Range Picker:\n",
    "\n",
    "1.Users can select a specific date range to filter data dynamically.\n",
    "2.The dcc.DatePickerRange component provides a convenient date range selection interface.\n",
    "\n",
    "Dynamic Visualizations:\n",
    "\n",
    "1.Sales Graph: Line chart showing sales trends over the selected date range.\n",
    "2.Profit Graph: Bar chart displaying profits for the selected dates.\n",
    "3.Customer Count Graph: Scatter plot illustrating customer counts.\n",
    "\n",
    "Responsive Design:\n",
    "1.The layout adjusts to fit the user's screen size.\n",
    "2.Works across various devices (desktop, tablet, mobile).\n"
   ]
  },
  {
   "cell_type": "code",
   "execution_count": 6,
   "metadata": {},
   "outputs": [
    {
     "name": "stdout",
     "output_type": "stream",
     "text": [
      "Dataset saved as sales_data.csv\n"
     ]
    }
   ],
   "source": [
    "import pandas as pd\n",
    "import numpy as np\n",
    "\n",
    "# Set a seed for reproducibility\n",
    "np.random.seed(42)\n",
    "\n",
    "# Create the dataset with non-linear data\n",
    "data = {\n",
    "    \"Date\": pd.date_range(start=\"2023-01-01\", periods=100),\n",
    "    \"Sales\": np.random.normal(loc=5000, scale=1500, size=100).cumsum(),  # Random walk for Sales\n",
    "    \"Profit\": np.random.normal(loc=1000, scale=300, size=100).cumsum(),  # Random walk for Profit\n",
    "    \"Customers\": np.random.randint(50, 500, size=100)  # Random customer count\n",
    "}\n",
    "\n",
    "# Convert data to DataFrame\n",
    "df = pd.DataFrame(data)\n",
    "\n",
    "# Save the DataFrame to a CSV file\n",
    "df.to_csv(\"sales_data.csv\", index=False)\n",
    "\n",
    "print(\"Dataset saved as sales_data.csv\")\n"
   ]
  },
  {
   "cell_type": "code",
   "execution_count": 1,
   "metadata": {},
   "outputs": [
    {
     "data": {
      "text/html": [
       "\n",
       "        <iframe\n",
       "            width=\"100%\"\n",
       "            height=\"650\"\n",
       "            src=\"http://127.0.0.1:8052/\"\n",
       "            frameborder=\"0\"\n",
       "            allowfullscreen\n",
       "            \n",
       "        ></iframe>\n",
       "        "
      ],
      "text/plain": [
       "<IPython.lib.display.IFrame at 0x2176a153af0>"
      ]
     },
     "metadata": {},
     "output_type": "display_data"
    }
   ],
   "source": [
    "import dash\n",
    "from dash import dcc, html\n",
    "from dash.dependencies import Input, Output\n",
    "import pandas as pd\n",
    "import plotly.express as px\n",
    "\n",
    "# Load the dataset from CSV file\n",
    "df = pd.read_csv('sales_data.csv')\n",
    "\n",
    "# Initialize the Dash app\n",
    "app = dash.Dash(__name__)\n",
    "\n",
    "# Layout\n",
    "app.layout = html.Div([\n",
    "    html.H1(\"Sales Dashboard\", style={'textAlign': 'center'}),\n",
    "    \n",
    "    # Date Range Picker\n",
    "    html.Div([\n",
    "        html.Label(\"Select Date Range:\"),\n",
    "        dcc.DatePickerRange(\n",
    "            id='date-range-picker',\n",
    "            start_date=df['Date'].min(),\n",
    "            end_date=df['Date'].max(),\n",
    "            display_format=\"YYYY-MM-DD\",\n",
    "            style={'marginBottom': '20px'}\n",
    "        )\n",
    "    ]),\n",
    "\n",
    "    # Graphs\n",
    "    html.Div([\n",
    "        dcc.Graph(id='sales-graph'),\n",
    "        dcc.Graph(id='profit-graph'),\n",
    "        dcc.Graph(id='customer-graph'),\n",
    "    ])\n",
    "])\n",
    "\n",
    "# Callbacks to update graphs based on date range\n",
    "@app.callback(\n",
    "    [Output('sales-graph', 'figure'),\n",
    "     Output('profit-graph', 'figure'),\n",
    "     Output('customer-graph', 'figure')],\n",
    "    [Input('date-range-picker', 'start_date'),\n",
    "     Input('date-range-picker', 'end_date')]\n",
    ")\n",
    "def update_graphs(start_date, end_date):\n",
    "    # Filter data based on selected date range\n",
    "    filtered_data = df[(df['Date'] >= start_date) & (df['Date'] <= end_date)]\n",
    "\n",
    "    # Sales Graph\n",
    "    sales_fig = px.line(\n",
    "        filtered_data, \n",
    "        x=\"Date\", y=\"Sales\",\n",
    "        title=\"Sales Over Time\",\n",
    "        labels={'Sales': 'Sales Amount'}\n",
    "    )\n",
    "\n",
    "    # Profit Graph\n",
    "    profit_fig = px.bar(\n",
    "        filtered_data,\n",
    "        x=\"Date\", y=\"Profit\",\n",
    "        title=\"Profit Over Time\",\n",
    "        labels={'Profit': 'Profit Amount'},\n",
    "        color_discrete_sequence=[\"green\"]\n",
    "    )\n",
    "\n",
    "    # Customer Graph\n",
    "    customer_fig = px.scatter(\n",
    "        filtered_data,\n",
    "        x=\"Date\", y=\"Customers\",\n",
    "        title=\"Customer Count Over Time\",\n",
    "        labels={'Customers': 'Customer Count'},\n",
    "        color_discrete_sequence=[\"blue\"]\n",
    "    )\n",
    "\n",
    "    return sales_fig, profit_fig, customer_fig\n",
    "\n",
    "# Run the app\n",
    "if __name__ == '__main__':\n",
    "     app.run_server(debug=True,port=8052)\n"
   ]
  },
  {
   "cell_type": "code",
   "execution_count": null,
   "metadata": {},
   "outputs": [],
   "source": []
  }
 ],
 "metadata": {
  "kernelspec": {
   "display_name": "Python 3",
   "language": "python",
   "name": "python3"
  },
  "language_info": {
   "codemirror_mode": {
    "name": "ipython",
    "version": 3
   },
   "file_extension": ".py",
   "mimetype": "text/x-python",
   "name": "python",
   "nbconvert_exporter": "python",
   "pygments_lexer": "ipython3",
   "version": "3.10.1"
  }
 },
 "nbformat": 4,
 "nbformat_minor": 2
}
