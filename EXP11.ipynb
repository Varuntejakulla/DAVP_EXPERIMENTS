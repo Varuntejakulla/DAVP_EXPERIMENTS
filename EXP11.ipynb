{
 "cells": [
  {
   "cell_type": "markdown",
   "metadata": {},
   "source": [
    "Create a layout for a dashboard that includes a pie chart showing market share, a bar chart of sales by product, and a scatterplot for profits\n",
    "all chart together"
   ]
  },
  {
   "cell_type": "markdown",
   "metadata": {},
   "source": [
    "1.Prepare the Dataset: Collect data with columns for products, market share, sales, and profit.\n",
    "Save the data in a CSV file or create a DataFrame.\n",
    "\n",
    "2.Install Libraries:  Install the required Python libraries:\n",
    "\n",
    " 3.Design the Dashboard Layout:·  Include:\n",
    "A Pie Chart for market share.\n",
    "A Bar Chart for sales.\n",
    "A Scatterplot for profits.\n",
    "\n",
    "4.Run the Dashboard:\n",
    " Save the script as dashboard.py.\n",
    "\n",
    "5.Open the browser and visit http://127.0.0.1:8053."
   ]
  },
  {
   "cell_type": "code",
   "execution_count": 1,
   "metadata": {},
   "outputs": [
    {
     "name": "stdout",
     "output_type": "stream",
     "text": [
      "CSV file 'product_data.csv' has been created and saved.\n"
     ]
    }
   ],
   "source": [
    "import pandas as pd\n",
    "\n",
    "# Data\n",
    "data = {\n",
    "    'Product': ['A', 'B', 'C', 'D', 'E', 'F', 'G', 'H', 'I', 'J'],\n",
    "    'Market Share': [30, 20, 25, 15, 10, 18, 22, 12, 14, 16],\n",
    "    'Sales': [500, 400, 600, 300, 200, 350, 420, 250, 310, 370],\n",
    "    'Profit': [50, 30, 80, 20, 10, 25, 40, 15, 18, 22]\n",
    "}\n",
    "\n",
    "# Create DataFrame\n",
    "df = pd.DataFrame(data)\n",
    "\n",
    "# Save to CSV\n",
    "df.to_csv('./product_data.csv', index=False)\n",
    "\n",
    "print(\"CSV file 'product_data.csv' has been created and saved.\")\n"
   ]
  },
  {
   "cell_type": "code",
   "execution_count": 1,
   "metadata": {},
   "outputs": [
    {
     "data": {
      "text/html": [
       "\n",
       "        <iframe\n",
       "            width=\"100%\"\n",
       "            height=\"650\"\n",
       "            src=\"http://127.0.0.1:8053/\"\n",
       "            frameborder=\"0\"\n",
       "            allowfullscreen\n",
       "            \n",
       "        ></iframe>\n",
       "        "
      ],
      "text/plain": [
       "<IPython.lib.display.IFrame at 0x19854f06980>"
      ]
     },
     "metadata": {},
     "output_type": "display_data"
    }
   ],
   "source": [
    "import dash\n",
    "from dash import dcc, html\n",
    "import plotly.express as px\n",
    "import pandas as pd\n",
    "\n",
    "# Read data from CSV file\n",
    "df = pd.read_csv('product_data.csv')\n",
    "\n",
    "# Initialize the Dash app\n",
    "app = dash.Dash(__name__)\n",
    "\n",
    "# Define the layout\n",
    "app.layout = html.Div([\n",
    "    html.H1(\"Business Dashboard\", style={'textAlign': 'center', 'marginBottom': 40}),\n",
    "\n",
    "    # Pie Chart\n",
    "    html.Div([\n",
    "        dcc.Graph(\n",
    "            id='market-share-pie',\n",
    "            figure=px.pie(\n",
    "                df, names='Product', values='Market Share', title=\"Market Share by Product\"\n",
    "            )\n",
    "        )\n",
    "    ], style={'width': '30%', 'display': 'inline-block', 'padding': '10px'}),\n",
    "\n",
    "    # Bar Chart\n",
    "    html.Div([\n",
    "        dcc.Graph(\n",
    "            id='sales-bar',\n",
    "            figure=px.bar(\n",
    "                df, x='Product', y='Sales', title=\"Sales by Product\", text='Sales'\n",
    "            )\n",
    "        )\n",
    "    ], style={'width': '30%', 'display': 'inline-block', 'padding': '10px'}),\n",
    "\n",
    "    # Scatterplot\n",
    "    html.Div([\n",
    "        dcc.Graph(\n",
    "            id='profits-scatter',\n",
    "            figure=px.scatter(\n",
    "                df, x='Product', y='Profit',\n",
    "                size='Profit', title=\"Profits by Product\",\n",
    "                hover_data=['Profit']\n",
    "            )\n",
    "        )\n",
    "    ], style={'width': '30%', 'display': 'inline-block', 'padding': '10px'}),\n",
    "])\n",
    "\n",
    "# Run the app\n",
    "if __name__ == '__main__':\n",
    "    app.run_server(debug=True, port=8053)\n"
   ]
  },
  {
   "cell_type": "code",
   "execution_count": null,
   "metadata": {},
   "outputs": [],
   "source": []
  }
 ],
 "metadata": {
  "kernelspec": {
   "display_name": "Python 3",
   "language": "python",
   "name": "python3"
  },
  "language_info": {
   "codemirror_mode": {
    "name": "ipython",
    "version": 3
   },
   "file_extension": ".py",
   "mimetype": "text/x-python",
   "name": "python",
   "nbconvert_exporter": "python",
   "pygments_lexer": "ipython3",
   "version": "3.10.1"
  }
 },
 "nbformat": 4,
 "nbformat_minor": 2
}
