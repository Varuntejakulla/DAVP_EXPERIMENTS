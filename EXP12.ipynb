{
 "cells": [
  {
   "cell_type": "markdown",
   "metadata": {},
   "source": [
    "Develop a bubble chart to analyze the performance of students in a class based on marks, attendance, and participation levels.\n",
    "A bubble chart where bubble size represents\n",
    "participation and axes represent marks and A combination of bar charts, pie charts, and\n",
    "annotations summarizing performance ratings."
   ]
  },
  {
   "cell_type": "markdown",
   "metadata": {},
   "source": [
    "Explanation:\n",
    "Bubble Chart:\n",
    "1.X-axis: Marks\n",
    "2.Y-axis: Attendance (%)\n",
    "3.Bubble size: Participation levels\n",
    "4.Color: Performance Rating\n",
    "5.Hover details display student information.\n",
    "\n",
    "Bar Chart:\n",
    "1.Shows marks for each student.\n",
    "2.Colored by performance rating to provide a quick comparison.\n",
    "Pie Chart:\n",
    "1.Summarizes the distribution of performance ratings.\n",
    "Summary Annotations:\n",
    "1.A textual summary highlights insights from the data.\n"
   ]
  },
  {
   "cell_type": "code",
   "execution_count": 1,
   "metadata": {},
   "outputs": [
    {
     "data": {
      "text/html": [
       "\n",
       "        <iframe\n",
       "            width=\"100%\"\n",
       "            height=\"650\"\n",
       "            src=\"http://127.0.0.1:8054/\"\n",
       "            frameborder=\"0\"\n",
       "            allowfullscreen\n",
       "            \n",
       "        ></iframe>\n",
       "        "
      ],
      "text/plain": [
       "<IPython.lib.display.IFrame at 0x234cce77ca0>"
      ]
     },
     "metadata": {},
     "output_type": "display_data"
    }
   ],
   "source": [
    "import dash\n",
    "from dash import dcc, html\n",
    "import plotly.express as px\n",
    "import pandas as pd\n",
    "\n",
    "# Read data from CSV\n",
    "df = pd.read_csv('students_data.csv')  # Ensure the file is in the same directory as this script\n",
    "\n",
    "# Initialize the Dash app\n",
    "app = dash.Dash(__name__)\n",
    "\n",
    "# Bubble Chart\n",
    "bubble_chart = px.scatter(\n",
    "    df,\n",
    "    x='Marks',\n",
    "    y='Attendance (%)',\n",
    "    size='Participation',\n",
    "    color='Performance Rating',\n",
    "    hover_name='Student',\n",
    "    title='Bubble Chart: Student Performance Analysis',\n",
    "    labels={'Marks': 'Marks', 'Attendance (%)': 'Attendance (%)'}\n",
    ")\n",
    "\n",
    "# Bar Chart\n",
    "bar_chart = px.bar(\n",
    "    df,\n",
    "    x='Student',\n",
    "    y='Marks',\n",
    "    color='Performance Rating',\n",
    "    title='Bar Chart: Marks by Student',\n",
    "    text='Marks'\n",
    ")\n",
    "\n",
    "# Pie Chart\n",
    "pie_chart = px.pie(\n",
    "    df,\n",
    "    names='Performance Rating',\n",
    "    title='Pie Chart: Performance Ratings Distribution'\n",
    ")\n",
    "\n",
    "# Combine Layout\n",
    "app.layout = html.Div([\n",
    "    html.H1(\"Class Performance Dashboard\", style={'textAlign': 'center'}),\n",
    "\n",
    "    # Bubble Chart\n",
    "    html.Div([\n",
    "        dcc.Graph(\n",
    "            id='bubble-chart',\n",
    "            figure=bubble_chart\n",
    "        )\n",
    "    ]),\n",
    "\n",
    "    # Bar Chart\n",
    "    html.Div([\n",
    "        dcc.Graph(\n",
    "            id='bar-chart',\n",
    "            figure=bar_chart\n",
    "        )\n",
    "    ], style={'width': '50%', 'display': 'inline-block'}),\n",
    "\n",
    "    # Pie Chart\n",
    "    html.Div([\n",
    "        dcc.Graph(\n",
    "            id='pie-chart',\n",
    "            figure=pie_chart\n",
    "        )\n",
    "    ], style={'width': '50%', 'display': 'inline-block'}),\n",
    "\n",
    "    # Summary Annotations\n",
    "    html.Div([\n",
    "        html.H3(\"Performance Summary\", style={'marginTop': '20px'}),\n",
    "        html.Ul([\n",
    "            html.Li(\"Excellent performers: Students with ratings 'Excellent' achieved consistently high marks and participation.\"),\n",
    "            html.Li(\"Good performers: Students with ratings 'Good' performed well but have room for improvement in marks or participation.\"),\n",
    "        ])\n",
    "    ], style={'margin': '20px'}),\n",
    "])\n",
    "\n",
    "# Run the app\n",
    "if __name__ == '__main__':\n",
    "    app.run_server(debug=True, port=8054)\n"
   ]
  },
  {
   "cell_type": "code",
   "execution_count": null,
   "metadata": {},
   "outputs": [],
   "source": []
  }
 ],
 "metadata": {
  "kernelspec": {
   "display_name": "Python 3",
   "language": "python",
   "name": "python3"
  },
  "language_info": {
   "codemirror_mode": {
    "name": "ipython",
    "version": 3
   },
   "file_extension": ".py",
   "mimetype": "text/x-python",
   "name": "python",
   "nbconvert_exporter": "python",
   "pygments_lexer": "ipython3",
   "version": "3.10.1"
  }
 },
 "nbformat": 4,
 "nbformat_minor": 2
}
